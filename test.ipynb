{
 "cells": [
  {
   "cell_type": "code",
   "execution_count": 1,
   "metadata": {},
   "outputs": [
    {
     "data": {
      "text/plain": [
       "['Django', 'Python']"
      ]
     },
     "execution_count": 1,
     "metadata": {},
     "output_type": "execute_result"
    }
   ],
   "source": [
    "def search_entry(query):\n",
    "    all_entries = ['CSS', 'Django', 'Git', 'HTML', 'Python']\n",
    "    results = []\n",
    "    for entry_num in range(len(all_entries)):\n",
    "        if query.lower() in all_entries[entry_num]:\n",
    "            if all_entries[entry_num] not in results:\n",
    "                results.append(all_entries[entry_num])\n",
    "    return results\n",
    "\n",
    "search_entry('o')"
   ]
  },
  {
   "cell_type": "code",
   "execution_count": 28,
   "metadata": {},
   "outputs": [],
   "source": [
    "class Test():\n",
    "    def __init__(self, x, y):\n",
    "        self.x = x\n",
    "        self.y = y\n",
    "    \n",
    "    def __str__(self):\n",
    "        return(f\"{self.x} and {self.y}\")\n",
    "    \n",
    "    def calculate(self):\n",
    "        return (self.x * self.y)\n",
    "    \n",
    "    def __eq__(self, other):\n",
    "        return(self.x == other.x and self.y == other.y)\n"
   ]
  },
  {
   "cell_type": "code",
   "execution_count": 33,
   "metadata": {},
   "outputs": [],
   "source": [
    "coordinates = Test(1, 2)\n",
    "coord = Test(1,2)"
   ]
  },
  {
   "cell_type": "code",
   "execution_count": 27,
   "metadata": {},
   "outputs": [
    {
     "data": {
      "text/plain": [
       "2"
      ]
     },
     "execution_count": 27,
     "metadata": {},
     "output_type": "execute_result"
    }
   ],
   "source": [
    "coordinates.calculate()"
   ]
  },
  {
   "cell_type": "code",
   "execution_count": 34,
   "metadata": {},
   "outputs": [
    {
     "data": {
      "text/plain": [
       "True"
      ]
     },
     "execution_count": 34,
     "metadata": {},
     "output_type": "execute_result"
    }
   ],
   "source": [
    "coordinates == (coord)"
   ]
  },
  {
   "cell_type": "code",
   "execution_count": 36,
   "metadata": {},
   "outputs": [
    {
     "name": "stdout",
     "output_type": "stream",
     "text": [
      "this is a hi\n"
     ]
    }
   ],
   "source": [
    "answer = \"hi\"\n",
    "print(f\"this is a {answer}\")"
   ]
  },
  {
   "cell_type": "code",
   "execution_count": 2,
   "metadata": {},
   "outputs": [
    {
     "name": "stdout",
     "output_type": "stream",
     "text": [
      "{'e': 1, 'H': 1, 'a': 1, 'l': 2, 'o': 1}\n"
     ]
    }
   ],
   "source": [
    "def function():\n",
    "    test = {'e':0, 'H':0, 'a':1}\n",
    "    word = 'Hello'\n",
    "    for i in word:\n",
    "        if i in test:\n",
    "            test[i] += 1\n",
    "        else:\n",
    "            test[i] = 1\n",
    "    print(test)\n",
    "\n",
    "function()"
   ]
  },
  {
   "cell_type": "code",
   "execution_count": null,
   "metadata": {},
   "outputs": [],
   "source": []
  }
 ],
 "metadata": {
  "kernelspec": {
   "display_name": "Python 3",
   "language": "python",
   "name": "python3"
  },
  "language_info": {
   "codemirror_mode": {
    "name": "ipython",
    "version": 3
   },
   "file_extension": ".py",
   "mimetype": "text/x-python",
   "name": "python",
   "nbconvert_exporter": "python",
   "pygments_lexer": "ipython3",
   "version": "3.11.3"
  },
  "orig_nbformat": 4,
  "vscode": {
   "interpreter": {
    "hash": "aee8b7b246df8f9039afb4144a1f6fd8d2ca17a180786b69acc140d282b71a49"
   }
  }
 },
 "nbformat": 4,
 "nbformat_minor": 2
}
